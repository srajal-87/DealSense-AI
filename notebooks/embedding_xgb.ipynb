{
 "cells": [
  {
   "cell_type": "code",
   "execution_count": null,
   "id": "c5e62993",
   "metadata": {},
   "outputs": [],
   "source": [
    "import os\n",
    "import re\n",
    "import math\n",
    "import json\n",
    "import joblib\n",
    "from tqdm import tqdm\n",
    "import torch\n",
    "import random\n",
    "from dotenv import load_dotenv\n",
    "from huggingface_hub import login,HfApi\n",
    "import numpy as np\n",
    "import pickle\n",
    "from sentence_transformers import SentenceTransformer\n",
    "from datasets import load_dataset\n",
    "import chromadb\n",
    "from xgboost import XGBRegressor\n",
    "from sklearn.manifold import TSNE"
   ]
  },
  {
   "cell_type": "code",
   "execution_count": null,
   "id": "bed58320",
   "metadata": {},
   "outputs": [],
   "source": [
    "load_dotenv()\n",
    "os.environ['OPENAI_API_KEY'] = os.getenv('OPENAI_API_KEY', 'your-key-if-not-using-env')\n",
    "os.environ['HF_TOKEN'] = os.getenv('HF_TOKEN', 'your-key-if-not-using-env')\n",
    "DB = \"../chroma_db\""
   ]
  },
  {
   "cell_type": "code",
   "execution_count": null,
   "id": "36a89de0",
   "metadata": {},
   "outputs": [],
   "source": [
    "# Log in to HuggingFace\n",
    "\n",
    "hf_token = os.environ['HF_TOKEN']\n",
    "login(hf_token, add_to_git_credential=True)"
   ]
  },
  {
   "cell_type": "code",
   "execution_count": null,
   "id": "0ccdef3e",
   "metadata": {},
   "outputs": [],
   "source": [
    "HF_USER = \"srajal87\"\n",
    "DATASET_NAME = f\"{HF_USER}/lite-data\""
   ]
  },
  {
   "cell_type": "code",
   "execution_count": null,
   "id": "c31c6160",
   "metadata": {},
   "outputs": [],
   "source": [
    "dataset = load_dataset(DATASET_NAME)\n",
    "train = dataset['train']\n",
    "test = dataset['test']"
   ]
  },
  {
   "cell_type": "code",
   "execution_count": null,
   "id": "4d9c2409",
   "metadata": {},
   "outputs": [],
   "source": [
    "print(train[0][\"text\"])"
   ]
  },
  {
   "cell_type": "code",
   "execution_count": null,
   "id": "752e5d9c",
   "metadata": {},
   "outputs": [],
   "source": [
    "print(test[0][\"text\"])"
   ]
  },
  {
   "cell_type": "code",
   "execution_count": null,
   "id": "8b6bafd4",
   "metadata": {},
   "outputs": [],
   "source": [
    "# Load embedding model\n",
    "model_embedding = SentenceTransformer(\"intfloat/e5-small-v2\")"
   ]
  },
  {
   "cell_type": "code",
   "execution_count": null,
   "id": "c73a9670",
   "metadata": {},
   "outputs": [],
   "source": [
    "model_embedding"
   ]
  },
  {
   "cell_type": "markdown",
   "id": "3b96a71a",
   "metadata": {},
   "source": [
    "### Create a Chroma VectorStore\n",
    "You can configure Chroma to save and load the database from your local machine, using the PersistentClient.\n",
    "\n",
    "Data will be persisted automatically and loaded on start (if it exists).\n",
    "\n",
    "Collections are where you'll store your embeddings, documents, and any additional metadata. Collections index your embeddings and documents, and enable efficient retrieval and filtering. You can create a collection with a name:"
   ]
  },
  {
   "cell_type": "code",
   "execution_count": null,
   "id": "e79bd32c",
   "metadata": {},
   "outputs": [],
   "source": [
    "client = chromadb.PersistentClient(path=DB)"
   ]
  },
  {
   "cell_type": "code",
   "execution_count": null,
   "id": "56f18884",
   "metadata": {},
   "outputs": [],
   "source": [
    "# Check if the collection exists and delete it if it does\n",
    "collection_name = \"price_items\"\n",
    "existing_collection_names = client.list_collections()\n",
    "\n",
    "if collection_name in existing_collection_names:\n",
    "    client.delete_collection(collection_name)\n",
    "    print(f\"Deleted existing collection: {collection_name}\")\n",
    "\n",
    "collection = client.create_collection(collection_name)"
   ]
  },
  {
   "cell_type": "code",
   "execution_count": null,
   "id": "2e2d29fa",
   "metadata": {},
   "outputs": [],
   "source": [
    "# Format description function (no price in text)\n",
    "def description(item):\n",
    "    text = item[\"text\"].replace(\n",
    "        \"How much does this cost to the nearest dollar?\\n\\n\", \"\"\n",
    "    )\n",
    "    text = text.split(\"\\n\\nPrice is $\")[0]\n",
    "    return f\"passage: {text}\"\n",
    "\n",
    "\n",
    "description(train[0])"
   ]
  },
  {
   "cell_type": "code",
   "execution_count": null,
   "id": "7658eef8",
   "metadata": {},
   "outputs": [],
   "source": [
    "batch_size = 300  # how many items to insert into Chroma at once\n",
    "encode_batch_size = 1024  # how many items to encode at once in GPU memory\n",
    "\n",
    "for i in tqdm(range(0, len(train), batch_size), desc=\"Processing batches\"):\n",
    "    end_idx = min(i + batch_size, len(train))\n",
    "\n",
    "    # Collect documents and metadata\n",
    "    documents = [description(train[j]) for j in range(i, end_idx)]\n",
    "    metadatas = [{\"price\": train[j][\"price\"]} for j in range(i, end_idx)]\n",
    "    ids = [f\"doc_{j}\" for j in range(i, end_idx)]\n",
    "\n",
    "    # GPU batch encoding\n",
    "    vectors = model_embedding.encode(\n",
    "        documents,\n",
    "        batch_size=encode_batch_size,\n",
    "        show_progress_bar=False,\n",
    "        normalize_embeddings=True,\n",
    "    ).tolist()\n",
    "\n",
    "    # Insert into Chroma\n",
    "    collection.add(\n",
    "        ids=ids, documents=documents, embeddings=vectors, metadatas=metadatas\n",
    "    )\n",
    "\n",
    "print(\"✅ Embedding and storage to ChromaDB completed.\")"
   ]
  },
  {
   "cell_type": "markdown",
   "id": "2bf75b7f",
   "metadata": {},
   "source": [
    "##  Embedding-Based Regression with XGBoost"
   ]
  },
  {
   "cell_type": "code",
   "execution_count": null,
   "id": "803088b7",
   "metadata": {},
   "outputs": [],
   "source": [
    "# Step 1: Load vectors and prices from Chroma\n",
    "result = collection.get(include=[\"embeddings\", \"documents\", \"metadatas\"])\n",
    "vectors = np.array(result[\"embeddings\"])\n",
    "documents = result[\"documents\"]\n",
    "prices = [meta[\"price\"] for meta in result[\"metadatas\"]]"
   ]
  },
  {
   "cell_type": "code",
   "execution_count": null,
   "id": "54ecd409",
   "metadata": {},
   "outputs": [],
   "source": [
    "# Step 2: Train XGBoost model\n",
    "xgb_model = XGBRegressor(n_estimators=100, random_state=42, n_jobs=-1, verbosity=0)\n",
    "xgb_model.fit(vectors, prices)"
   ]
  },
  {
   "cell_type": "code",
   "execution_count": null,
   "id": "389f2173",
   "metadata": {},
   "outputs": [],
   "source": [
    "# Step 3: Serialize XGBoost model locally for Hugging Face upload \n",
    "ROOT = os.path.abspath(os.path.join(os.getcwd(), \"..\"))\n",
    "MODEL_DIR = os.path.join(ROOT, \"models\")\n",
    "MODEL_FILENAME = \"xgboost_model.pkl\"\n",
    "LOCAL_MODEL = os.path.join(MODEL_DIR, MODEL_FILENAME)\n",
    "\n",
    "os.makedirs(MODEL_DIR, exist_ok=True)\n",
    "joblib.dump(xgb_model, LOCAL_MODEL)"
   ]
  },
  {
   "cell_type": "code",
   "execution_count": null,
   "id": "7223767b",
   "metadata": {},
   "outputs": [],
   "source": [
    "# Step 4: Push serialized XGBoost model to Hugging Face Hub\n",
    "api = HfApi(token=hf_token)\n",
    "REPO_NAME = \"smart-deal-finder-models\"\n",
    "REPO_ID = f\"{HF_USER}/{REPO_NAME}\"\n",
    "\n",
    "# Create the model repo if it doesn't exist\n",
    "api.create_repo(repo_id=REPO_ID, repo_type=\"model\", private=True, exist_ok=True)\n",
    "\n",
    "# Upload the saved model\n",
    "api.upload_file(\n",
    "    path_or_fileobj=LOCAL_MODEL,\n",
    "    path_in_repo=MODEL_FILENAME,\n",
    "    repo_id=REPO_ID,\n",
    "    repo_type=\"model\",\n",
    ")"
   ]
  }
 ],
 "metadata": {
  "kernelspec": {
   "display_name": "Python 3",
   "language": "python",
   "name": "python3"
  },
  "language_info": {
   "codemirror_mode": {
    "name": "ipython",
    "version": 3
   },
   "file_extension": ".py",
   "mimetype": "text/x-python",
   "name": "python",
   "nbconvert_exporter": "python",
   "pygments_lexer": "ipython3",
   "version": "3.12.5"
  }
 },
 "nbformat": 4,
 "nbformat_minor": 5
}
